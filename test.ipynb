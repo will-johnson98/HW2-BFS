{
 "cells": [
  {
   "cell_type": "code",
   "execution_count": 4,
   "metadata": {},
   "outputs": [],
   "source": [
    "# write tests for bfs\n",
    "import pytest\n",
    "from search.graph import Graph"
   ]
  },
  {
   "cell_type": "code",
   "execution_count": 34,
   "metadata": {},
   "outputs": [],
   "source": [
    "def test_bfs_traversal():\n",
    "    \"\"\"Test BFS traversal on tiny network\"\"\"\n",
    "    g = Graph(\"data/tiny_network.adjlist\")\n",
    "    \n",
    "    # Test traversal from Nevan Krogan\n",
    "    traversal = g.bfs(\"Nevan Krogan\")\n",
    "    assert len(traversal) == 30  # Verify all nodes visited\n",
    "    assert traversal[0] == \"Nevan Krogan\"  # Start node first\n",
    "    \n",
    "    # Test first few nodes are immediate neighbors\n",
    "    neighbors = {\"34272374\", \"32353859\", \"30944313\"}\n",
    "    assert set(traversal[1:4]) == neighbors\n",
    "    \n",
    "    # Test traversal from different start node\n",
    "    traversal2 = g.bfs(\"Marina Sirota\") \n",
    "    assert len(traversal2) == 30\n",
    "    assert traversal2[0] == \"Marina Sirota\"\n",
    "\n",
    "def test_bfs_pathfinding():\n",
    "    \"\"\"Test BFS pathfinding on citation network\"\"\"\n",
    "    g = Graph(\"data/citation_network.adjlist\")\n",
    "    \n",
    "    # Test path between connected nodes\n",
    "    # Finding path from Charles Chiu to Steven Altschuler\n",
    "    path = g.bfs(\"Charles Chiu\", \"Steven Altschuler\")\n",
    "    assert path is not None\n",
    "    assert path[0] == \"Charles Chiu\"\n",
    "    assert path[-1] == \"Steven Altschuler\"\n",
    "    \n",
    "    # Test path between same node\n",
    "    path = g.bfs(\"Marina Sirota\", \"Marina Sirota\")\n",
    "    assert path is None\n",
    "    \n",
    "    # Test path between unconnected nodes\n",
    "    # Using a PMID that doesn't connect to faculty\n",
    "    path = g.bfs(\"34272374\", \"invalid_node\")\n",
    "    assert path is None\n",
    "\n",
    "def test_invalid_start():\n",
    "    \"\"\"Test BFS with invalid start node\"\"\"\n",
    "    g = Graph(\"data/tiny_network.adjlist\")\n",
    "    result = g.bfs(\"NonexistentNode\", \"Steven Altschuler\")\n",
    "    assert result is None\n",
    "\n",
    "\n",
    "def test_invalid_end():\n",
    "    \"\"\"Test BFS with invalid start node\"\"\"\n",
    "    g = Graph(\"data/tiny_network.adjlist\")\n",
    "    result = g.bfs(\"Steven Altschuler\", \"NonexistentNode\")\n",
    "    assert result is None\n",
    "\n",
    "def test_tiny_specific_paths():\n",
    "    \"\"\"Test specific known paths in tiny network\"\"\"\n",
    "    g = Graph(\"data/tiny_network.adjlist\")\n",
    "    \n",
    "    # Test path from Luke Gilbert to Atul Butte\n",
    "    path = g.bfs(\"Luke Gilbert\", \"Atul Butte\")\n",
    "    assert path is not None\n",
    "    assert path[0] == \"Luke Gilbert\"\n",
    "    assert path[-1] == \"Atul Butte\"\n",
    "    \n",
    "    # Verify path length is optimal\n",
    "    # One possible shortest path: Luke Gilbert -> Martin Kampmann -> Nevan Krogan -> Marina Sirota -> Atul Butte\n",
    "    assert len(path) <= 5\n",
    "\n",
    "def test_citation_network_properties():\n",
    "    \"\"\"Test properties of citation network\"\"\"\n",
    "    g = Graph(\"data/citation_network.adjlist\")\n",
    "    \n",
    "    # Test path between papers\n",
    "    path = g.bfs(\"34272374\", \"32353859\")  # PMIDs from tiny network\n",
    "    assert path is not None\n",
    "    assert path[0] == \"34272374\"\n",
    "    assert path[-1] == \"32353859\"\n",
    "\n",
    "    # Test traversal from faculty member\n",
    "    traversal = g.bfs(\"Nevan Krogan\")\n",
    "    print(f\"Traversal Length: {len(traversal)}\")\n",
    "    assert len(traversal) == 5120, \"Incorrect `len(traversal)`\" # This should raise an error, because the traversal from N.K. does not reach all nodes (only 5044)\n"
   ]
  },
  {
   "cell_type": "code",
   "execution_count": 35,
   "metadata": {},
   "outputs": [
    {
     "ename": "AssertionError",
     "evalue": "Incorrect `len(traversal)`",
     "output_type": "error",
     "traceback": [
      "\u001b[0;31m---------------------------------------------------------------------------\u001b[0m",
      "\u001b[0;31mAssertionError\u001b[0m                            Traceback (most recent call last)",
      "Cell \u001b[0;32mIn[35], line 6\u001b[0m\n\u001b[1;32m      4\u001b[0m test_invalid_end()\n\u001b[1;32m      5\u001b[0m test_tiny_specific_paths()\n\u001b[0;32m----> 6\u001b[0m \u001b[43mtest_citation_network_properties\u001b[49m\u001b[43m(\u001b[49m\u001b[43m)\u001b[49m\n",
      "Cell \u001b[0;32mIn[34], line 78\u001b[0m, in \u001b[0;36mtest_citation_network_properties\u001b[0;34m()\u001b[0m\n\u001b[1;32m     76\u001b[0m \u001b[38;5;66;03m# Test traversal from faculty member\u001b[39;00m\n\u001b[1;32m     77\u001b[0m traversal \u001b[38;5;241m=\u001b[39m g\u001b[38;5;241m.\u001b[39mbfs(\u001b[38;5;124m\"\u001b[39m\u001b[38;5;124mNevan Krogan\u001b[39m\u001b[38;5;124m\"\u001b[39m)\n\u001b[0;32m---> 78\u001b[0m \u001b[38;5;28;01massert\u001b[39;00m \u001b[38;5;28mlen\u001b[39m(traversal) \u001b[38;5;241m==\u001b[39m \u001b[38;5;241m5120\u001b[39m, \u001b[38;5;124m\"\u001b[39m\u001b[38;5;124mIncorrect `len(traversal)`\u001b[39m\u001b[38;5;124m\"\u001b[39m\n",
      "\u001b[0;31mAssertionError\u001b[0m: Incorrect `len(traversal)`"
     ]
    }
   ],
   "source": [
    "test_bfs_traversal()\n",
    "test_bfs_pathfinding()\n",
    "test_invalid_start()\n",
    "test_invalid_end()\n",
    "test_tiny_specific_paths()\n",
    "test_citation_network_properties()"
   ]
  },
  {
   "cell_type": "code",
   "execution_count": null,
   "metadata": {},
   "outputs": [],
   "source": []
  }
 ],
 "metadata": {
  "kernelspec": {
   "display_name": "Python 3",
   "language": "python",
   "name": "python3"
  },
  "language_info": {
   "codemirror_mode": {
    "name": "ipython",
    "version": 3
   },
   "file_extension": ".py",
   "mimetype": "text/x-python",
   "name": "python",
   "nbconvert_exporter": "python",
   "pygments_lexer": "ipython3",
   "version": "3.11.11"
  }
 },
 "nbformat": 4,
 "nbformat_minor": 2
}
